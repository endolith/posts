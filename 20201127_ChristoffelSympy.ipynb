{
 "cells": [
  {
   "cell_type": "markdown",
   "metadata": {},
   "source": [
    "Let's solve the Christoffel equation system using Sympy."
   ]
  },
  {
   "cell_type": "markdown",
   "metadata": {},
   "source": [
    "First, let's build a cij matrix using Sympy."
   ]
  },
  {
   "cell_type": "code",
   "execution_count": 1,
   "metadata": {},
   "outputs": [
    {
     "data": {
      "text/latex": [
       "$\\displaystyle \\left[\\begin{matrix}c_{11} & c_{11} - 2 c_{44} & c_{11} - 2 c_{44} & 0 & 0 & 0\\\\c_{11} - 2 c_{44} & c_{11} & c_{11} - 2 c_{44} & 0 & 0 & 0\\\\c_{11} - 2 c_{44} & c_{11} - 2 c_{44} & c_{11} & 0 & 0 & 0\\\\0 & 0 & 0 & c_{44} & 0 & 0\\\\0 & 0 & 0 & 0 & c_{44} & 0\\\\0 & 0 & 0 & 0 & 0 & c_{44}\\end{matrix}\\right]$"
      ],
      "text/plain": [
       "Matrix([\n",
       "[         c_11, c_11 - 2*c_44, c_11 - 2*c_44,    0,    0,    0],\n",
       "[c_11 - 2*c_44,          c_11, c_11 - 2*c_44,    0,    0,    0],\n",
       "[c_11 - 2*c_44, c_11 - 2*c_44,          c_11,    0,    0,    0],\n",
       "[            0,             0,             0, c_44,    0,    0],\n",
       "[            0,             0,             0,    0, c_44,    0],\n",
       "[            0,             0,             0,    0,    0, c_44]])"
      ]
     },
     "execution_count": 1,
     "metadata": {},
     "output_type": "execute_result"
    }
   ],
   "source": [
    "import sympy\n",
    "\n",
    "def make_cij_matrix_isotropic():\n",
    "    c11, c44 = sympy.symbols('c_11 c_44')\n",
    "    return sympy.Matrix([[c11, c11- 2*c44, c11- 2*c44, 0, 0, 0],\n",
    "                  [c11- 2*c44, c11, c11- 2*c44, 0, 0, 0],\n",
    "                  [c11- 2*c44, c11- 2*c44, c11, 0, 0, 0],\n",
    "                  [0, 0, 0, c44, 0, 0],\n",
    "                  [0, 0, 0, 0  , c44, 0],\n",
    "                  [0, 0, 0, 0, 0, c44]])\n",
    "\n",
    "cij = make_cij_matrix_isotropic()\n",
    "\n",
    "cij"
   ]
  },
  {
   "cell_type": "code",
   "execution_count": 2,
   "metadata": {},
   "outputs": [],
   "source": [
    "def to_cijkl(cij):\n",
    "    \"\"\"Converts the Voigt-notation cij to a 4th order tensor cijkl.\"\"\"\n",
    "    coord_mapping = {(1, 1): 1,\n",
    "                     (2, 2): 2,\n",
    "                     (3, 3): 3,\n",
    "                     (2, 3): 4,\n",
    "                     (1, 3): 5,\n",
    "                     (1, 2): 6,\n",
    "                     (2, 1): 6,\n",
    "                     (3, 1): 5,\n",
    "                     (3, 2): 4}\n",
    "\n",
    "    cijkl = sympy.MutableDenseNDimArray([0] * 81, shape=(3, 3, 3, 3))\n",
    "    for i in range(3):\n",
    "        for j in range(3):\n",
    "            for k in range(3):\n",
    "                for l in range(3):\n",
    "                    u = coord_mapping[(i + 1, j + 1)]\n",
    "                    v = coord_mapping[(k + 1, l + 1)]\n",
    "                    cijkl[i, j, k, l] = cij[u - 1, v - 1]\n",
    "    return cijkl"
   ]
  },
  {
   "cell_type": "code",
   "execution_count": 3,
   "metadata": {},
   "outputs": [
    {
     "data": {
      "text/latex": [
       "$\\displaystyle \\left[\\begin{matrix}\\left[\\begin{matrix}c_{11} & 0 & 0\\\\0 & c_{11} - 2 c_{44} & 0\\\\0 & 0 & c_{11} - 2 c_{44}\\end{matrix}\\right] & \\left[\\begin{matrix}0 & c_{44} & 0\\\\c_{44} & 0 & 0\\\\0 & 0 & 0\\end{matrix}\\right] & \\left[\\begin{matrix}0 & 0 & c_{44}\\\\0 & 0 & 0\\\\c_{44} & 0 & 0\\end{matrix}\\right]\\\\\\left[\\begin{matrix}0 & c_{44} & 0\\\\c_{44} & 0 & 0\\\\0 & 0 & 0\\end{matrix}\\right] & \\left[\\begin{matrix}c_{11} - 2 c_{44} & 0 & 0\\\\0 & c_{11} & 0\\\\0 & 0 & c_{11} - 2 c_{44}\\end{matrix}\\right] & \\left[\\begin{matrix}0 & 0 & 0\\\\0 & 0 & c_{44}\\\\0 & c_{44} & 0\\end{matrix}\\right]\\\\\\left[\\begin{matrix}0 & 0 & c_{44}\\\\0 & 0 & 0\\\\c_{44} & 0 & 0\\end{matrix}\\right] & \\left[\\begin{matrix}0 & 0 & 0\\\\0 & 0 & c_{44}\\\\0 & c_{44} & 0\\end{matrix}\\right] & \\left[\\begin{matrix}c_{11} - 2 c_{44} & 0 & 0\\\\0 & c_{11} - 2 c_{44} & 0\\\\0 & 0 & c_{11}\\end{matrix}\\right]\\end{matrix}\\right]$"
      ],
      "text/plain": [
       "[[[[c_11, 0, 0], [0, c_11 - 2*c_44, 0], [0, 0, c_11 - 2*c_44]], [[0, c_44, 0], [c_44, 0, 0], [0, 0, 0]], [[0, 0, c_44], [0, 0, 0], [c_44, 0, 0]]], [[[0, c_44, 0], [c_44, 0, 0], [0, 0, 0]], [[c_11 - 2*c_44, 0, 0], [0, c_11, 0], [0, 0, c_11 - 2*c_44]], [[0, 0, 0], [0, 0, c_44], [0, c_44, 0]]], [[[0, 0, c_44], [0, 0, 0], [c_44, 0, 0]], [[0, 0, 0], [0, 0, c_44], [0, c_44, 0]], [[c_11 - 2*c_44, 0, 0], [0, c_11 - 2*c_44, 0], [0, 0, c_11]]]]"
      ]
     },
     "execution_count": 3,
     "metadata": {},
     "output_type": "execute_result"
    }
   ],
   "source": [
    "cijkl = to_cijkl(cij)\n",
    "\n",
    "cijkl"
   ]
  },
  {
   "cell_type": "code",
   "execution_count": 4,
   "metadata": {},
   "outputs": [],
   "source": [
    "rho = sympy.symbols('rho')\n",
    "\n",
    "def assemble_christoffel_matrix(cijkl, q, rho):\n",
    "    M = sympy.zeros(3, 3)\n",
    "    for i in range(3):\n",
    "        for j in range(3):\n",
    "            for n in range(3):\n",
    "                for m in range(3):\n",
    "                    M[i, j] += q[n] * cijkl[i, n, m, j] * q[m]\n",
    "    return M / rho"
   ]
  },
  {
   "cell_type": "code",
   "execution_count": 5,
   "metadata": {},
   "outputs": [
    {
     "data": {
      "text/latex": [
       "$\\displaystyle \\left[\\begin{matrix}\\frac{c_{44}}{\\rho} & 0 & 0\\\\0 & \\frac{c_{44}}{\\rho} & 0\\\\0 & 0 & \\frac{c_{11}}{\\rho}\\end{matrix}\\right]$"
      ],
      "text/plain": [
       "Matrix([\n",
       "[c_44/rho,        0,        0],\n",
       "[       0, c_44/rho,        0],\n",
       "[       0,        0, c_11/rho]])"
      ]
     },
     "execution_count": 5,
     "metadata": {},
     "output_type": "execute_result"
    }
   ],
   "source": [
    "q = sympy.Matrix([0, 0, 1]).reshape(3, 1)\n",
    "assemble_christoffel_matrix(cijkl, q, rho)"
   ]
  },
  {
   "cell_type": "code",
   "execution_count": 6,
   "metadata": {},
   "outputs": [
    {
     "data": {
      "text/latex": [
       "$\\displaystyle \\left[\\begin{matrix}\\frac{c_{11}}{\\rho} & 0 & 0\\\\0 & \\frac{c_{44}}{\\rho} & 0\\\\0 & 0 & \\frac{c_{44}}{\\rho}\\end{matrix}\\right]$"
      ],
      "text/plain": [
       "Matrix([\n",
       "[c_11/rho,        0,        0],\n",
       "[       0, c_44/rho,        0],\n",
       "[       0,        0, c_44/rho]])"
      ]
     },
     "execution_count": 6,
     "metadata": {},
     "output_type": "execute_result"
    }
   ],
   "source": [
    "q = sympy.Matrix([1, 0, 0]).reshape(3, 1)\n",
    "assemble_christoffel_matrix(cijkl, q, rho)"
   ]
  },
  {
   "cell_type": "code",
   "execution_count": 7,
   "metadata": {},
   "outputs": [
    {
     "data": {
      "text/latex": [
       "$\\displaystyle \\left[\\begin{matrix}\\frac{c_{44}}{\\rho} & 0 & 0\\\\0 & \\frac{c_{11}}{\\rho} & 0\\\\0 & 0 & \\frac{c_{44}}{\\rho}\\end{matrix}\\right]$"
      ],
      "text/plain": [
       "Matrix([\n",
       "[c_44/rho,        0,        0],\n",
       "[       0, c_11/rho,        0],\n",
       "[       0,        0, c_44/rho]])"
      ]
     },
     "execution_count": 7,
     "metadata": {},
     "output_type": "execute_result"
    }
   ],
   "source": [
    "q = sympy.Matrix([0, 1, 0]).reshape(3, 1)\n",
    "assemble_christoffel_matrix(cijkl, q, rho)"
   ]
  },
  {
   "cell_type": "markdown",
   "metadata": {},
   "source": [
    "Let's make a vector of squared speeds:"
   ]
  },
  {
   "cell_type": "code",
   "execution_count": 8,
   "metadata": {},
   "outputs": [
    {
     "data": {
      "text/latex": [
       "$\\displaystyle \\left[\\begin{matrix}vs_{1}\\\\vs_{2}\\\\vs_{3}\\end{matrix}\\right]$"
      ],
      "text/plain": [
       "Matrix([\n",
       "[vs_1],\n",
       "[vs_2],\n",
       "[vs_3]])"
      ]
     },
     "execution_count": 8,
     "metadata": {},
     "output_type": "execute_result"
    }
   ],
   "source": [
    "vs_1, vs_2, vs_3 = sympy.symbols('vs_1 vs_2 vs_3')\n",
    "squared_speeds = sympy.Matrix([vs_1, vs_2, vs_3]).reshape(3, 1)\n",
    "\n",
    "squared_speeds"
   ]
  },
  {
   "cell_type": "code",
   "execution_count": 9,
   "metadata": {},
   "outputs": [
    {
     "data": {
      "text/latex": [
       "$\\displaystyle \\left[\\begin{matrix}\\frac{c_{44}}{\\rho} - vs_{1} & 0 & 0\\\\0 & \\frac{c_{11}}{\\rho} - vs_{2} & 0\\\\0 & 0 & \\frac{c_{44}}{\\rho} - vs_{3}\\end{matrix}\\right]$"
      ],
      "text/plain": [
       "Matrix([\n",
       "[c_44/rho - vs_1,               0,               0],\n",
       "[              0, c_11/rho - vs_2,               0],\n",
       "[              0,               0, c_44/rho - vs_3]])"
      ]
     },
     "execution_count": 9,
     "metadata": {},
     "output_type": "execute_result"
    }
   ],
   "source": [
    "q = sympy.Matrix([0, 1, 0]).reshape(3, 1)\n",
    "M = assemble_christoffel_matrix(cijkl, q, rho)\n",
    "M - sympy.diag(*[vs_1, vs_2, vs_3])"
   ]
  },
  {
   "cell_type": "code",
   "execution_count": 10,
   "metadata": {},
   "outputs": [
    {
     "data": {
      "text/plain": [
       "[(c_11/rho - vs_2,\n",
       "  1,\n",
       "  [Matrix([\n",
       "   [0],\n",
       "   [1],\n",
       "   [0]])]),\n",
       " (c_44/rho - vs_1,\n",
       "  1,\n",
       "  [Matrix([\n",
       "   [1],\n",
       "   [0],\n",
       "   [0]])]),\n",
       " (c_44/rho - vs_3,\n",
       "  1,\n",
       "  [Matrix([\n",
       "   [0],\n",
       "   [0],\n",
       "   [1]])])]"
      ]
     },
     "execution_count": 10,
     "metadata": {},
     "output_type": "execute_result"
    }
   ],
   "source": [
    "eigenvects = (M - sympy.diag(*[vs_1, vs_2, vs_3])).eigenvects()\n",
    "\n",
    "eigenvects"
   ]
  },
  {
   "cell_type": "markdown",
   "metadata": {},
   "source": [
    "Let's print some results using HTML:"
   ]
  },
  {
   "cell_type": "code",
   "execution_count": 11,
   "metadata": {},
   "outputs": [
    {
     "data": {
      "text/html": [
       "<b>incidence : $\\displaystyle \\left[\\begin{matrix}1\\\\0\\\\0\\end{matrix}\\right]$</b>vitesse $\\displaystyle \\sqrt{\\frac{c_{11}}{\\rho}}$ selon la polarisation $\\displaystyle \\left[\\begin{matrix}1\\\\0\\\\0\\end{matrix}\\right]$, vitesse $\\displaystyle \\sqrt{\\frac{c_{44}}{\\rho}}$ selon la polarisation $\\displaystyle \\left[\\begin{matrix}0\\\\1\\\\0\\end{matrix}\\right]$, vitesse $\\displaystyle \\sqrt{\\frac{c_{44}}{\\rho}}$ selon la polarisation $\\displaystyle \\left[\\begin{matrix}0\\\\0\\\\1\\end{matrix}\\right]$, <br>"
      ],
      "text/plain": [
       "<IPython.core.display.HTML object>"
      ]
     },
     "metadata": {},
     "output_type": "display_data"
    },
    {
     "data": {
      "text/html": [
       "<b>incidence : $\\displaystyle \\left[\\begin{matrix}0\\\\1\\\\0\\end{matrix}\\right]$</b>vitesse $\\displaystyle \\sqrt{\\frac{c_{11}}{\\rho}}$ selon la polarisation $\\displaystyle \\left[\\begin{matrix}0\\\\1\\\\0\\end{matrix}\\right]$, vitesse $\\displaystyle \\sqrt{\\frac{c_{44}}{\\rho}}$ selon la polarisation $\\displaystyle \\left[\\begin{matrix}1\\\\0\\\\0\\end{matrix}\\right]$, vitesse $\\displaystyle \\sqrt{\\frac{c_{44}}{\\rho}}$ selon la polarisation $\\displaystyle \\left[\\begin{matrix}0\\\\0\\\\1\\end{matrix}\\right]$, <br>"
      ],
      "text/plain": [
       "<IPython.core.display.HTML object>"
      ]
     },
     "metadata": {},
     "output_type": "display_data"
    },
    {
     "data": {
      "text/html": [
       "<b>incidence : $\\displaystyle \\left[\\begin{matrix}0\\\\0\\\\1\\end{matrix}\\right]$</b>vitesse $\\displaystyle \\sqrt{\\frac{c_{11}}{\\rho}}$ selon la polarisation $\\displaystyle \\left[\\begin{matrix}0\\\\0\\\\1\\end{matrix}\\right]$, vitesse $\\displaystyle \\sqrt{\\frac{c_{44}}{\\rho}}$ selon la polarisation $\\displaystyle \\left[\\begin{matrix}1\\\\0\\\\0\\end{matrix}\\right]$, vitesse $\\displaystyle \\sqrt{\\frac{c_{44}}{\\rho}}$ selon la polarisation $\\displaystyle \\left[\\begin{matrix}0\\\\1\\\\0\\end{matrix}\\right]$, <br>"
      ],
      "text/plain": [
       "<IPython.core.display.HTML object>"
      ]
     },
     "metadata": {},
     "output_type": "display_data"
    }
   ],
   "source": [
    "from IPython.display import HTML, display\n",
    "\n",
    "def pprint_eigenvects(wave_vector, eigenvects):\n",
    "    html = ''\n",
    "    html += f'<b>incidence : {wave_vector._repr_latex_()}</b>'\n",
    "    for eigenval, mult, vect in eigenvects:\n",
    "        for var in [vs_1, vs_2, vs_3]:\n",
    "            if len(eigenval.find(var)) > 0:\n",
    "                sol = sympy.solve(sympy.Eq(eigenval, 0), var)\n",
    "                html += f'vitesse {sympy.sqrt(sol[0])._repr_latex_()}' \n",
    "                html += f' selon la polarisation {vect[0]._repr_latex_()}, '\n",
    "    html += '<br>'\n",
    "    return HTML(html)\n",
    "\n",
    "for direction in range(3):\n",
    "    wave_vector = sympy.Matrix([0, 0, 0])\n",
    "    wave_vector[direction] = 1\n",
    "    M = assemble_christoffel_matrix(cijkl, wave_vector, rho)\n",
    "    eigenvects = (M - sympy.diag(*[vs_1, vs_2, vs_3])).eigenvects()\n",
    "    display(pprint_eigenvects(wave_vector, eigenvects))"
   ]
  },
  {
   "cell_type": "markdown",
   "metadata": {},
   "source": [
    "# Now with cubic cij "
   ]
  },
  {
   "cell_type": "code",
   "execution_count": 12,
   "metadata": {},
   "outputs": [
    {
     "data": {
      "text/latex": [
       "$\\displaystyle \\left[\\begin{matrix}c_{11} & c_{12} & c_{12} & 0 & 0 & 0\\\\c_{12} & c_{11} & c_{12} & 0 & 0 & 0\\\\c_{12} & c_{12} & c_{11} & 0 & 0 & 0\\\\0 & 0 & 0 & c_{44} & 0 & 0\\\\0 & 0 & 0 & 0 & c_{44} & 0\\\\0 & 0 & 0 & 0 & 0 & c_{44}\\end{matrix}\\right]$"
      ],
      "text/plain": [
       "Matrix([\n",
       "[c_11, c_12, c_12,    0,    0,    0],\n",
       "[c_12, c_11, c_12,    0,    0,    0],\n",
       "[c_12, c_12, c_11,    0,    0,    0],\n",
       "[   0,    0,    0, c_44,    0,    0],\n",
       "[   0,    0,    0,    0, c_44,    0],\n",
       "[   0,    0,    0,    0,    0, c_44]])"
      ]
     },
     "execution_count": 12,
     "metadata": {},
     "output_type": "execute_result"
    }
   ],
   "source": [
    "def make_cij_matrix_cubic():\n",
    "    c11, c12, c44 = sympy.symbols('c_11 c_12 c_44')\n",
    "    return sympy.Matrix( [[c11, c12, c12, 0, 0, 0],\n",
    "                          [c12, c11, c12, 0, 0, 0],\n",
    "                          [c12, c12, c11, 0, 0, 0],\n",
    "                          [0, 0, 0, c44, 0, 0],\n",
    "                          [0, 0, 0, 0  , c44, 0],\n",
    "                          [0, 0, 0, 0, 0, c44]])\n",
    "\n",
    "cij = make_cij_matrix_cubic()\n",
    "cij"
   ]
  },
  {
   "cell_type": "code",
   "execution_count": 13,
   "metadata": {},
   "outputs": [
    {
     "data": {
      "text/html": [
       "<b>incidence : $\\displaystyle \\left[\\begin{matrix}1\\\\0\\\\0\\end{matrix}\\right]$</b>vitesse $\\displaystyle \\sqrt{\\frac{c_{11}}{\\rho}}$ selon la polarisation $\\displaystyle \\left[\\begin{matrix}1\\\\0\\\\0\\end{matrix}\\right]$, vitesse $\\displaystyle \\sqrt{\\frac{c_{44}}{\\rho}}$ selon la polarisation $\\displaystyle \\left[\\begin{matrix}0\\\\1\\\\0\\end{matrix}\\right]$, vitesse $\\displaystyle \\sqrt{\\frac{c_{44}}{\\rho}}$ selon la polarisation $\\displaystyle \\left[\\begin{matrix}0\\\\0\\\\1\\end{matrix}\\right]$, <br>"
      ],
      "text/plain": [
       "<IPython.core.display.HTML object>"
      ]
     },
     "metadata": {},
     "output_type": "display_data"
    },
    {
     "data": {
      "text/html": [
       "<b>incidence : $\\displaystyle \\left[\\begin{matrix}0\\\\1\\\\0\\end{matrix}\\right]$</b>vitesse $\\displaystyle \\sqrt{\\frac{c_{11}}{\\rho}}$ selon la polarisation $\\displaystyle \\left[\\begin{matrix}0\\\\1\\\\0\\end{matrix}\\right]$, vitesse $\\displaystyle \\sqrt{\\frac{c_{44}}{\\rho}}$ selon la polarisation $\\displaystyle \\left[\\begin{matrix}1\\\\0\\\\0\\end{matrix}\\right]$, vitesse $\\displaystyle \\sqrt{\\frac{c_{44}}{\\rho}}$ selon la polarisation $\\displaystyle \\left[\\begin{matrix}0\\\\0\\\\1\\end{matrix}\\right]$, <br>"
      ],
      "text/plain": [
       "<IPython.core.display.HTML object>"
      ]
     },
     "metadata": {},
     "output_type": "display_data"
    },
    {
     "data": {
      "text/html": [
       "<b>incidence : $\\displaystyle \\left[\\begin{matrix}0\\\\0\\\\1\\end{matrix}\\right]$</b>vitesse $\\displaystyle \\sqrt{\\frac{c_{11}}{\\rho}}$ selon la polarisation $\\displaystyle \\left[\\begin{matrix}0\\\\0\\\\1\\end{matrix}\\right]$, vitesse $\\displaystyle \\sqrt{\\frac{c_{44}}{\\rho}}$ selon la polarisation $\\displaystyle \\left[\\begin{matrix}1\\\\0\\\\0\\end{matrix}\\right]$, vitesse $\\displaystyle \\sqrt{\\frac{c_{44}}{\\rho}}$ selon la polarisation $\\displaystyle \\left[\\begin{matrix}0\\\\1\\\\0\\end{matrix}\\right]$, <br>"
      ],
      "text/plain": [
       "<IPython.core.display.HTML object>"
      ]
     },
     "metadata": {},
     "output_type": "display_data"
    }
   ],
   "source": [
    "cijkl = to_cijkl(cij)\n",
    "\n",
    "for direction in range(3):\n",
    "    wave_vector = sympy.Matrix([0, 0, 0])\n",
    "    wave_vector[direction] = 1\n",
    "    M = assemble_christoffel_matrix(cijkl, wave_vector, rho)\n",
    "    eigenvects = (M - sympy.diag(*[vs_1, vs_2, vs_3])).eigenvects()\n",
    "    display(pprint_eigenvects(wave_vector, eigenvects))"
   ]
  },
  {
   "cell_type": "markdown",
   "metadata": {},
   "source": [
    "# Now orthotropic "
   ]
  },
  {
   "cell_type": "code",
   "execution_count": 14,
   "metadata": {},
   "outputs": [
    {
     "data": {
      "text/latex": [
       "$\\displaystyle \\left[\\begin{matrix}c_{11} & c_{12} & c_{13} & 0 & 0 & 0\\\\c_{12} & c_{22} & c_{23} & 0 & 0 & 0\\\\c_{13} & c_{23} & c_{33} & 0 & 0 & 0\\\\0 & 0 & 0 & c_{44} & 0 & 0\\\\0 & 0 & 0 & 0 & c_{55} & 0\\\\0 & 0 & 0 & 0 & 0 & c_{66}\\end{matrix}\\right]$"
      ],
      "text/plain": [
       "Matrix([\n",
       "[c_11, c_12, c_13,    0,    0,    0],\n",
       "[c_12, c_22, c_23,    0,    0,    0],\n",
       "[c_13, c_23, c_33,    0,    0,    0],\n",
       "[   0,    0,    0, c_44,    0,    0],\n",
       "[   0,    0,    0,    0, c_55,    0],\n",
       "[   0,    0,    0,    0,    0, c_66]])"
      ]
     },
     "execution_count": 14,
     "metadata": {},
     "output_type": "execute_result"
    }
   ],
   "source": [
    "def make_cij_matrix_orthotropic():\n",
    "    c11, c12, c13, c22, c23, c33, c44, c55, c66 = sympy.symbols('c_11 c_12 c_13 c_22 c_23 c_33 c_44 c_55 c_66')\n",
    "    return sympy.Matrix( [[c11, c12, c13, 0, 0, 0],\n",
    "                          [c12, c22, c23, 0, 0, 0],\n",
    "                          [c13, c23, c33, 0, 0, 0],\n",
    "                          [0, 0, 0, c44, 0, 0],\n",
    "                          [0, 0, 0, 0  , c55, 0],\n",
    "                          [0, 0, 0, 0, 0, c66]])\n",
    "\n",
    "cij = make_cij_matrix_orthotropic()\n",
    "cij"
   ]
  },
  {
   "cell_type": "code",
   "execution_count": 15,
   "metadata": {},
   "outputs": [
    {
     "data": {
      "text/html": [
       "<b>incidence : $\\displaystyle \\left[\\begin{matrix}1\\\\0\\\\0\\end{matrix}\\right]$</b>vitesse $\\displaystyle \\sqrt{\\frac{c_{11}}{\\rho}}$ selon la polarisation $\\displaystyle \\left[\\begin{matrix}1\\\\0\\\\0\\end{matrix}\\right]$, vitesse $\\displaystyle \\sqrt{\\frac{c_{55}}{\\rho}}$ selon la polarisation $\\displaystyle \\left[\\begin{matrix}0\\\\0\\\\1\\end{matrix}\\right]$, vitesse $\\displaystyle \\sqrt{\\frac{c_{66}}{\\rho}}$ selon la polarisation $\\displaystyle \\left[\\begin{matrix}0\\\\1\\\\0\\end{matrix}\\right]$, <br>"
      ],
      "text/plain": [
       "<IPython.core.display.HTML object>"
      ]
     },
     "metadata": {},
     "output_type": "display_data"
    },
    {
     "data": {
      "text/html": [
       "<b>incidence : $\\displaystyle \\left[\\begin{matrix}0\\\\1\\\\0\\end{matrix}\\right]$</b>vitesse $\\displaystyle \\sqrt{\\frac{c_{22}}{\\rho}}$ selon la polarisation $\\displaystyle \\left[\\begin{matrix}0\\\\1\\\\0\\end{matrix}\\right]$, vitesse $\\displaystyle \\sqrt{\\frac{c_{44}}{\\rho}}$ selon la polarisation $\\displaystyle \\left[\\begin{matrix}0\\\\0\\\\1\\end{matrix}\\right]$, vitesse $\\displaystyle \\sqrt{\\frac{c_{66}}{\\rho}}$ selon la polarisation $\\displaystyle \\left[\\begin{matrix}1\\\\0\\\\0\\end{matrix}\\right]$, <br>"
      ],
      "text/plain": [
       "<IPython.core.display.HTML object>"
      ]
     },
     "metadata": {},
     "output_type": "display_data"
    },
    {
     "data": {
      "text/html": [
       "<b>incidence : $\\displaystyle \\left[\\begin{matrix}0\\\\0\\\\1\\end{matrix}\\right]$</b>vitesse $\\displaystyle \\sqrt{\\frac{c_{33}}{\\rho}}$ selon la polarisation $\\displaystyle \\left[\\begin{matrix}0\\\\0\\\\1\\end{matrix}\\right]$, vitesse $\\displaystyle \\sqrt{\\frac{c_{44}}{\\rho}}$ selon la polarisation $\\displaystyle \\left[\\begin{matrix}0\\\\1\\\\0\\end{matrix}\\right]$, vitesse $\\displaystyle \\sqrt{\\frac{c_{55}}{\\rho}}$ selon la polarisation $\\displaystyle \\left[\\begin{matrix}1\\\\0\\\\0\\end{matrix}\\right]$, <br>"
      ],
      "text/plain": [
       "<IPython.core.display.HTML object>"
      ]
     },
     "metadata": {},
     "output_type": "display_data"
    }
   ],
   "source": [
    "cijkl = to_cijkl(cij)\n",
    "\n",
    "for direction in range(3):\n",
    "    wave_vector = sympy.Matrix([0, 0, 0])\n",
    "    wave_vector[direction] = 1\n",
    "    M = assemble_christoffel_matrix(cijkl, wave_vector, rho)\n",
    "    eigenvects = (M - sympy.diag(*[vs_1, vs_2, vs_3])).eigenvects()\n",
    "    display(pprint_eigenvects(wave_vector, eigenvects))"
   ]
  }
 ],
 "metadata": {
  "kernelspec": {
   "display_name": "Python 3",
   "language": "python",
   "name": "python3"
  },
  "language_info": {
   "codemirror_mode": {
    "name": "ipython",
    "version": 3
   },
   "file_extension": ".py",
   "mimetype": "text/x-python",
   "name": "python",
   "nbconvert_exporter": "python",
   "pygments_lexer": "ipython3",
   "version": "3.7.6"
  },
  "widgets": {
   "application/vnd.jupyter.widget-state+json": {
    "state": {},
    "version_major": 2,
    "version_minor": 0
   }
  }
 },
 "nbformat": 4,
 "nbformat_minor": 4
}
