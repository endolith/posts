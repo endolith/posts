{
 "cells": [
  {
   "cell_type": "markdown",
   "id": "afff0ab9-0c87-4195-9176-fb7674395573",
   "metadata": {},
   "source": [
    "As a half-French, half-German person, I’ve often found myself discussing electricity policies in the last months, especially in the context of the climate crisis.\n",
    "\n",
    "Germany has been heavily investing in renewable energy sources (wind and solar), which comes with its backup fossil gas sources and shutting down nuclear. \n",
    "\n",
    "France has been using low-carbon electricity for decades now, due to its use of nuclear energy.\n",
    "\n",
    "There are a lot of questions I’ve been wanting to ask for a long time regarding German and French electricity. Since this morning, I’ve learnt that there is an easy way to get access to electric data using Python called [entsoe-py](https://github.com/EnergieID/entsoe-py). This notebook is a quick exploration of its capabilities. I’ll try to reproduce the analysis shown in this tweet:\n",
    "\n",
    "<blockquote class=\"twitter-tweet\"><p lang=\"fr\" dir=\"ltr\">J’ai ressorti la calculette parce que certains n’ont toujours pas compris que BotElectricity n’est pas ElectricityMap.<a href=\"https://t.co/1E14LVOwa5\">https://t.co/1E14LVOwa5</a><br><br>Donc regardons dans le détail. On va se rapprocher des chiffres de ElectricityMap.</p>&mdash; Thomas 💉💉💉 (@Thomas_Auriel) <a href=\"https://twitter.com/Thomas_Auriel/status/1481741563776614406?ref_src=twsrc%5Etfw\">January 13, 2022</a></blockquote> <script async src=\"https://platform.twitter.com/widgets.js\" charset=\"utf-8\"></script> "
   ]
  },
  {
   "cell_type": "markdown",
   "id": "2a35e7ae-9010-417c-8272-806ba8fdfe0e",
   "metadata": {},
   "source": [
    "# Querying the production "
   ]
  },
  {
   "cell_type": "code",
   "execution_count": null,
   "id": "6a45636a-8942-4813-bbae-0b142adf8122",
   "metadata": {},
   "outputs": [],
   "source": [
    "import entsoe\n",
    "import pandas as pd\n",
    "\n",
    "api_key = open(\".entsoetoken\").read()\n",
    "\n",
    "client = entsoe.EntsoePandasClient(api_key)\n",
    "\n",
    "start = pd.Timestamp('20210601', tz='Europe/Brussels')\n",
    "end = pd.Timestamp('20220113', tz='Europe/Brussels')\n",
    "country_code = 'FR'  # Belgium\n",
    "\n",
    "df = client.query_generation(country_code, start=start, end=end, psr_type=None)\n",
    "\n",
    "df"
   ]
  },
  {
   "cell_type": "markdown",
   "id": "af89aad4-b225-4a10-abce-8ec33d38ec0f",
   "metadata": {},
   "source": [
    "Let’s transform the multi-index to a normal one."
   ]
  },
  {
   "cell_type": "code",
   "execution_count": null,
   "id": "fb3ca5c4-cb92-462d-839b-468de1e6580c",
   "metadata": {},
   "outputs": [],
   "source": [
    "def convert_df(df):\n",
    "    \"\"\"Gets rid of the multi index\"\"\"\n",
    "    cols = df.columns\n",
    "    new_cols = [\"_\".join([col[0], col[1]]) for col in cols]\n",
    "    new_df = pd.DataFrame(data=df.values, columns=new_cols, index=df.index)\n",
    "    return new_df\n",
    "\n",
    "df = convert_df(df)"
   ]
  },
  {
   "cell_type": "markdown",
   "id": "353d0750-0c7a-445e-b094-046a392d866b",
   "metadata": {},
   "source": [
    "And now, let’s plot the result."
   ]
  },
  {
   "cell_type": "code",
   "execution_count": null,
   "id": "ec2ce2b7-a8e7-4624-8ab1-e3fe6f88d2ff",
   "metadata": {},
   "outputs": [],
   "source": [
    "import hvplot.pandas\n",
    "\n",
    "df.hvplot(responsive=True, height=500)"
   ]
  },
  {
   "cell_type": "markdown",
   "id": "0a3bef88-4320-47d9-adc9-31cfd8d14bb8",
   "metadata": {},
   "source": [
    "# Estimating CO2 impact "
   ]
  },
  {
   "cell_type": "markdown",
   "id": "95e701b4-3558-4cef-9432-17300002e7d3",
   "metadata": {},
   "source": [
    "As explained in the above twitter thread (in French), ENTSOE does not compute CO2 intensity per se. To do that, we need to multiply the production values by an intensity. \n",
    "\n",
    "We can conveniently copy the script from BotElectricity found here: https://gitlab.com/ThomasAuriel/BotElectricity/-/blob/master/scripts/data/co2Intensity.py"
   ]
  },
  {
   "cell_type": "code",
   "execution_count": null,
   "id": "d4b32862-ca0f-44b3-a09f-95516c42cbb8",
   "metadata": {},
   "outputs": [],
   "source": [
    "intensities = {\"Mixed\": 600,\n",
    "            \"Generation\": 600,\n",
    "            \"Load\": 600,\n",
    "            \"Biomass\": 230,\n",
    "            \"Fossil Brown coal/Lignite\": 1200,  # According to https://www.energy-charts.de/emissions.htm?source=lignite&view=specific&emission=co2&year=2017 but IPCC Does no do the difference between lignite and Coal\n",
    "            \"Fossil Coal-derived gas\": 820,\n",
    "            \"Fossil Gas\": 490,\n",
    "            \"Fossil Hard coal\": 820,\n",
    "            \"Fossil Oil\": 490,\n",
    "            \"Fossil Oil shale\": 490,\n",
    "            \"Fossil Peat\": 820,\n",
    "            \"Geothermal\": 38,\n",
    "            \"Hydro Pumped Storage\": 24,\n",
    "            \"Hydro Run-of-river and poundage\": 24,\n",
    "            \"Hydro Water Reservoir\": 24,\n",
    "            \"Marine\": 24,\n",
    "            \"Nuclear\": 12,\n",
    "            \"Other renewable\": 30,\n",
    "            \"Solar\": 48,\n",
    "            \"Waste\": 230,\n",
    "            \"Wind Offshore\": 12,\n",
    "            \"Wind Onshore\": 11,\n",
    "            \"Other\": 600,\n",
    "}"
   ]
  },
  {
   "cell_type": "markdown",
   "id": "d172647f-427d-4b83-b182-f7158eecc626",
   "metadata": {},
   "source": [
    "And now, let’s map this and sum it to get an average CO2 intensity in gCO2/kWh."
   ]
  },
  {
   "cell_type": "code",
   "execution_count": null,
   "id": "518a1360-7c3f-4535-8095-d7cf0b6c4f82",
   "metadata": {},
   "outputs": [],
   "source": [
    "import numpy as np\n",
    "\n",
    "def compute_intensity(df):\n",
    "    co2_intensity = pd.Series(data=df.iloc[:, 0] * 0, index=df.index, name=\"CO2 intensity gCO2/kWh\")\n",
    "    for col in df.columns:\n",
    "        label = col.split(\"_\")[0]\n",
    "        intensity = intensities[label]\n",
    "        co2_intensity += intensity * df[col].replace(np.nan, 0)\n",
    "    co2_intensity /= df.iloc[:, :-1].sum(axis=1).values\n",
    "    return co2_intensity\n",
    "\n",
    "co2_intensity = compute_intensity(df)\n",
    "\n",
    "co2_intensity.hvplot(responsive=True, height=500)"
   ]
  },
  {
   "cell_type": "markdown",
   "id": "9026ce10-609f-44bf-b78e-c85d7dd35923",
   "metadata": {},
   "source": [
    "# Case study France vs Germany "
   ]
  },
  {
   "cell_type": "code",
   "execution_count": null,
   "id": "e4a903ff-13fe-4890-a6fd-d61b87dbcc91",
   "metadata": {},
   "outputs": [],
   "source": [
    "start = pd.Timestamp('20181201', tz='Europe/Brussels')\n",
    "end = pd.Timestamp('20220101', tz='Europe/Brussels')\n",
    "\n",
    "data = {}\n",
    "for country_code in [\"FR\", \"DE\"]: \n",
    "    df = client.query_generation(country_code, start=start, end=end, psr_type=None)\n",
    "    df = convert_df(df)\n",
    "    data[country_code] = compute_intensity(df)"
   ]
  },
  {
   "cell_type": "code",
   "execution_count": null,
   "id": "08739194-9293-49ea-b168-eb0e5f9de2ab",
   "metadata": {},
   "outputs": [],
   "source": [
    "def resample(df, rule=\"W\"):\n",
    "    c = pd.concat([df.resample(rule=\"W\").min(),\n",
    "           df.resample(rule=\"W\").mean(), \n",
    "           df.resample(rule=\"W\").max(),],\n",
    "          axis=1)\n",
    "    c.columns = [\"min\", \"mean\", \"max\"]\n",
    "    return c \n",
    "\n",
    "resample(data[\"FR\"]).hvplot(label=\"FR\",  responsive=True, height=500) * resample(data[\"DE\"]).hvplot(label=\"DE\", ylabel=\"CO2 intensity gCO2/kWh\", responsive=True, height=500)  "
   ]
  },
  {
   "cell_type": "markdown",
   "id": "d19c35ec-8db0-4276-9c57-916fee0eee8d",
   "metadata": {},
   "source": [
    "Compared to Germany, France shines with really low CO2 intensity. Of course, one has to ask, at what price? Is the nuclear risk worth taking? \n",
    "\n",
    "On the other side, seing this rather CO2 high intensity in Germany, one could ask: so 1000 Billion $ got you this kind of \"green electricity\"? Where did the money go because it doesn’t look green to me, although a lot of it is renewable. But that means the German electricity is contributing more to Climate Change (4x more)."
   ]
  },
  {
   "cell_type": "markdown",
   "id": "04ffb57c-fe63-497e-8da7-9c2c7e988cf5",
   "metadata": {},
   "source": [
    "# Subtleties\n",
    "\n",
    "- production vs consumption: here come exports\n",
    "- prices: looking at electricity map, it seems prices in France are way higher than elsewhere -- what are these prices? who pays them? what do they mean?"
   ]
  }
 ],
 "metadata": {
  "kernelspec": {
   "display_name": "Python 3",
   "language": "python",
   "name": "python3"
  },
  "language_info": {
   "codemirror_mode": {
    "name": "ipython",
    "version": 3
   },
   "file_extension": ".py",
   "mimetype": "text/x-python",
   "name": "python",
   "nbconvert_exporter": "python",
   "pygments_lexer": "ipython3",
   "version": "3.9.6"
  }
 },
 "nbformat": 4,
 "nbformat_minor": 5
}
