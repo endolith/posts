{
 "cells": [
  {
   "cell_type": "markdown",
   "metadata": {},
   "source": [
    "Objectif : calculer la p-valeur des données issues de la thèse de Ben. Il a un échantillon de médecins avant / après formation et observe le nombre de patient PrEP suivis. Est-ce que c'est significatif ?"
   ]
  },
  {
   "cell_type": "code",
   "execution_count": 1,
   "metadata": {},
   "outputs": [],
   "source": [
    "import numpy as np\n",
    "\n",
    "import pandas as pd\n",
    "\n",
    "import matplotlib.pyplot as plt\n",
    "plt.style.use('bmh')\n",
    "%matplotlib inline"
   ]
  },
  {
   "cell_type": "markdown",
   "metadata": {},
   "source": [
    "# Données "
   ]
  },
  {
   "cell_type": "code",
   "execution_count": 2,
   "metadata": {},
   "outputs": [],
   "source": [
    "raw_data = \"\"\"0\t2\t0\t2\t0\t2\t0\t0\t5\t5\t10\t0\t0\t0\t1\t0\t1\t0\t0\t0\t0\t10\t0\t0\t0\t0\t0\t3\t0\t0\t0\t0\t0\t0\t0\t0\t0\t1\t1,10526316\t2,48007709\n",
    "0\t5\t0\t3\t0\t3\t0\t0\t3\t15\t8\t2\t3\t1\t15\t0\t5\t0\t0\t0\t0\t10\t0\t0\t0\t0\t0\t5\t0\t0\t0\t0\t5\t0\t0\t0\t3\t2\t2,31578947\t3,90498824\"\"\"\n",
    "\n",
    "lines = raw_data.split('\\n')\n",
    "\n",
    "data_before = np.array(list(map(int, lines[0].split('\\t')[:-2])))\n",
    "\n",
    "data_after = np.array(list(map(int, lines[1].split('\\t')[:-2])))"
   ]
  },
  {
   "cell_type": "code",
   "execution_count": 3,
   "metadata": {},
   "outputs": [
    {
     "data": {
      "text/plain": [
       "array([ 0,  5,  0,  3,  0,  3,  0,  0,  3, 15,  8,  2,  3,  1, 15,  0,  5,\n",
       "        0,  0,  0,  0, 10,  0,  0,  0,  0,  0,  5,  0,  0,  0,  0,  5,  0,\n",
       "        0,  0,  3,  2])"
      ]
     },
     "execution_count": 3,
     "metadata": {},
     "output_type": "execute_result"
    }
   ],
   "source": [
    "data_after"
   ]
  },
  {
   "cell_type": "code",
   "execution_count": 4,
   "metadata": {},
   "outputs": [
    {
     "data": {
      "text/plain": [
       "array([ 0,  2,  0,  2,  0,  2,  0,  0,  5,  5, 10,  0,  0,  0,  1,  0,  1,\n",
       "        0,  0,  0,  0, 10,  0,  0,  0,  0,  0,  3,  0,  0,  0,  0,  0,  0,\n",
       "        0,  0,  0,  1])"
      ]
     },
     "execution_count": 4,
     "metadata": {},
     "output_type": "execute_result"
    }
   ],
   "source": [
    "data_before"
   ]
  },
  {
   "cell_type": "code",
   "execution_count": 5,
   "metadata": {},
   "outputs": [
    {
     "data": {
      "text/plain": [
       "1.105263157894737"
      ]
     },
     "execution_count": 5,
     "metadata": {},
     "output_type": "execute_result"
    }
   ],
   "source": [
    "np.mean(data_before)"
   ]
  },
  {
   "cell_type": "code",
   "execution_count": 6,
   "metadata": {},
   "outputs": [
    {
     "data": {
      "text/plain": [
       "2.3157894736842106"
      ]
     },
     "execution_count": 6,
     "metadata": {},
     "output_type": "execute_result"
    }
   ],
   "source": [
    "np.mean(data_after)"
   ]
  },
  {
   "cell_type": "markdown",
   "metadata": {},
   "source": [
    "En moyenne, les médecins ont plus de patients PrEP après la formation :"
   ]
  },
  {
   "cell_type": "code",
   "execution_count": 7,
   "metadata": {},
   "outputs": [
    {
     "data": {
      "text/plain": [
       "1.2105263157894737"
      ]
     },
     "execution_count": 7,
     "metadata": {},
     "output_type": "execute_result"
    }
   ],
   "source": [
    " np.mean(data_after - data_before) "
   ]
  },
  {
   "cell_type": "markdown",
   "metadata": {},
   "source": [
    "Quel est l'histogramme des deltas par médecin ?"
   ]
  },
  {
   "cell_type": "code",
   "execution_count": 8,
   "metadata": {},
   "outputs": [
    {
     "data": {
      "text/plain": [
       "<matplotlib.axes._subplots.AxesSubplot at 0x7fabf5d95590>"
      ]
     },
     "execution_count": 8,
     "metadata": {},
     "output_type": "execute_result"
    },
    {
     "data": {
      "image/png": "[encoded data removed]",
      "text/plain": [
       "<Figure size 432x288 with 1 Axes>"
      ]
     },
     "metadata": {
      "needs_background": "light"
     },
     "output_type": "display_data"
    }
   ],
   "source": [
    "df = pd.DataFrame({'before': data_before, 'after': data_after})\n",
    "\n",
    "df['delta'] = df.after - df.before \n",
    "\n",
    "df.delta.plot.hist()"
   ]
  },
  {
   "cell_type": "code",
   "execution_count": 9,
   "metadata": {},
   "outputs": [
    {
     "data": {
      "text/plain": [
       "<matplotlib.legend.Legend at 0x7fabf5f55490>"
      ]
     },
     "execution_count": 9,
     "metadata": {},
     "output_type": "execute_result"
    },
    {
     "data": {
      "image/png": "[encoded data removed]",
      "text/plain": [
       "<Figure size 432x288 with 1 Axes>"
      ]
     },
     "metadata": {
      "needs_background": "light"
     },
     "output_type": "display_data"
    }
   ],
   "source": [
    "fig, ax = plt.subplots()\n",
    "df.before.plot.hist(ax=ax)\n",
    "df.after.plot.hist(ax=ax, alpha=0.5)\n",
    "ax.legend()"
   ]
  },
  {
   "cell_type": "markdown",
   "metadata": {},
   "source": [
    "# Test statistique 1 : pas d'hypothèse de normalité"
   ]
  },
  {
   "cell_type": "markdown",
   "metadata": {},
   "source": [
    "![onlyonetest](https://lh4.googleusercontent.com/Bud31guq0w0FvylY57VMR0zHkYqxIpYAfOqgZietyvv1n2ToNEHwHKZWYix8pwct8kDKsZKiwvOWm6PIFEL3gBIQmbakQYHwVT02nn9_H8Fht_zaSBlrRNcqwZa950Vb5nt-5B84)"
   ]
  },
  {
   "cell_type": "markdown",
   "metadata": {},
   "source": [
    "**H_0** : la distribution avant / après est la même. Donc on peut simuler des données sous l'hypothèse H_0 en mélangeant les valeurs obtenues."
   ]
  },
  {
   "cell_type": "code",
   "execution_count": 10,
   "metadata": {},
   "outputs": [
    {
     "data": {
      "text/plain": [
       "1.2105263157894737"
      ]
     },
     "execution_count": 10,
     "metadata": {},
     "output_type": "execute_result"
    }
   ],
   "source": [
    "class HypothesisTest():\n",
    "    def __init__(self, data):\n",
    "        self.data = data\n",
    "        self.actual = self.TestStatistic(data)\n",
    "\n",
    "    def PValue(self, iters=1000):\n",
    "        \"Returns p-value of actual data based on simulated data.\"\n",
    "        self.test_stats = [self.TestStatistic(self.RunModel()) \n",
    "                           for _ in range(iters)]\n",
    "\n",
    "        count = sum(1 for x in self.test_stats if x >= self.actual)\n",
    "        return count / iters\n",
    "\n",
    "    def TestStatistic(self, data):\n",
    "        \"Test statistic for the current test.\"\n",
    "        raise UnimplementedMethodException()\n",
    "\n",
    "    def RunModel(self):\n",
    "        \"Returns a simulated data sample.\"\n",
    "        raise UnimplementedMethodException()\n",
    "\n",
    "class BenTest(HypothesisTest):\n",
    "    \"Model for Ben's data.\"\n",
    "    def __init__(self, data):\n",
    "        super().__init__(data)\n",
    "        \n",
    "    def TestStatistic(self, simulated_data):\n",
    "        \"The statistic is the difference in means between `after` and `before` PrEP formation.\"\n",
    "        before, after = simulated_data\n",
    "        test_stat = np.mean(after) - np.mean(before)\n",
    "        return test_stat\n",
    "\n",
    "    def RunModel(self):\n",
    "        \"Returns a simulated data set of 38 observations under the H0 hypothesis.\"\n",
    "        N = len(self.data[0])\n",
    "        possible_values = np.concatenate(self.data)\n",
    "        before = np.random.choice(possible_values, size=(N,))\n",
    "        after = np.random.choice(possible_values, size=(N,))\n",
    "        return (before, after)\n",
    "\n",
    "data = (data_before, data_after)\n",
    "\n",
    "bt = BenTest(data)\n",
    "\n",
    "bt.actual"
   ]
  },
  {
   "cell_type": "code",
   "execution_count": 11,
   "metadata": {},
   "outputs": [
    {
     "data": {
      "text/plain": [
       "0.05566666666666667"
      ]
     },
     "execution_count": 11,
     "metadata": {},
     "output_type": "execute_result"
    }
   ],
   "source": [
    "bt.PValue(iters=30000)"
   ]
  },
  {
   "cell_type": "code",
   "execution_count": 12,
   "metadata": {},
   "outputs": [],
   "source": [
    "def plot_test_stat(test, title=\"\"):\n",
    "    \"Plots the test statistic distribution and observed value.\"\n",
    "    plt.hist(test.test_stats, bins=30, cumulative=False, density=True)\n",
    "    ylim = plt.ylim()\n",
    "    plt.vlines(test.actual, *ylim, label='observed test stat')\n",
    "    plt.legend(loc='upper left')\n",
    "    plt.xlabel('test statistic')\n",
    "    plt.title(title)"
   ]
  },
  {
   "cell_type": "code",
   "execution_count": 13,
   "metadata": {},
   "outputs": [
    {
     "data": {
      "image/png": "[encoded data removed]",
      "text/plain": [
       "<Figure size 432x288 with 1 Axes>"
      ]
     },
     "metadata": {
      "needs_background": "light"
     },
     "output_type": "display_data"
    }
   ],
   "source": [
    "plot_test_stat(bt, f\"p-valeur: {bt.PValue(iters=20000)}\")"
   ]
  },
  {
   "cell_type": "markdown",
   "metadata": {},
   "source": [
    "# Test 2 : hypothèse de normalité sur le delta"
   ]
  },
  {
   "cell_type": "markdown",
   "metadata": {},
   "source": [
    "On travaille directement avec les delta des échantillons appariés. On fait l'hypothèse que ces delta suivent une loi normale. Dans l'hypothèse **H_0** ces lois normales ont la même moyenne (0) et la même variance (à calculer sur la distribution). "
   ]
  },
  {
   "cell_type": "code",
   "execution_count": 14,
   "metadata": {},
   "outputs": [],
   "source": [
    "class BenTestNormal(HypothesisTest):\n",
    "    \"Model for Ben's delta_data using a normal hypothesis. The delta_data here is directly differences between people.\"\n",
    "    def __init__(self, delta_data):\n",
    "        super().__init__(delta_data)\n",
    "        self.std = np.std(delta_data)\n",
    "        \n",
    "    def TestStatistic(self, simulated_delta_data):\n",
    "        \"The statistic is the difference in means between `after` and `before` PrEP formation.\"\n",
    "        test_stat = np.mean(simulated_delta_data)\n",
    "        return test_stat\n",
    "\n",
    "    def RunModel(self):\n",
    "        \"Returns a simulated delta_data set of 38 observations under the H0 hypothesis.\"\n",
    "        N = len(self.data)\n",
    "        delta_data = np.random.normal(loc=0, scale=self.std, size=(N,))\n",
    "        return delta_data"
   ]
  },
  {
   "cell_type": "code",
   "execution_count": 15,
   "metadata": {},
   "outputs": [
    {
     "data": {
      "text/plain": [
       "1.2105263157894737"
      ]
     },
     "execution_count": 15,
     "metadata": {},
     "output_type": "execute_result"
    }
   ],
   "source": [
    "btnormal = BenTestNormal(df.delta.values)\n",
    "\n",
    "btnormal.actual"
   ]
  },
  {
   "cell_type": "code",
   "execution_count": 16,
   "metadata": {},
   "outputs": [
    {
     "data": {
      "text/plain": [
       "0.0054666666666666665"
      ]
     },
     "execution_count": 16,
     "metadata": {},
     "output_type": "execute_result"
    }
   ],
   "source": [
    "btnormal.PValue(iters=30000)"
   ]
  },
  {
   "cell_type": "code",
   "execution_count": 17,
   "metadata": {},
   "outputs": [
    {
     "data": {
      "image/png": "[encoded data removed]",
      "text/plain": [
       "<Figure size 432x288 with 1 Axes>"
      ]
     },
     "metadata": {
      "needs_background": "light"
     },
     "output_type": "display_data"
    }
   ],
   "source": [
    "plot_test_stat(btnormal, f\"p-valeur: {btnormal.PValue(iters=30000)}\")"
   ]
  },
  {
   "cell_type": "markdown",
   "metadata": {},
   "source": [
    "# Scipy "
   ]
  },
  {
   "cell_type": "code",
   "execution_count": 22,
   "metadata": {},
   "outputs": [],
   "source": [
    "import scipy.stats"
   ]
  },
  {
   "cell_type": "code",
   "execution_count": 24,
   "metadata": {},
   "outputs": [
    {
     "data": {
      "text/plain": [
       "Ttest_relResult(statistic=2.5050766025946083, pvalue=0.01677377792344304)"
      ]
     },
     "execution_count": 24,
     "metadata": {},
     "output_type": "execute_result"
    }
   ],
   "source": [
    "scipy.stats.ttest_rel(data_after, data_before)"
   ]
  },
  {
   "cell_type": "code",
   "execution_count": 20,
   "metadata": {},
   "outputs": [
    {
     "data": {
      "text/plain": [
       "2.505076602594608"
      ]
     },
     "execution_count": 20,
     "metadata": {},
     "output_type": "execute_result"
    }
   ],
   "source": [
    "m = np.mean(data_after - data_before)\n",
    "s = np.std(data_after - data_before, ddof=1)\n",
    "test_stat = m / (s / np.sqrt(data_after.size))\n",
    "test_stat"
   ]
  }
 ],
 "metadata": {
  "kernelspec": {
   "display_name": "Python 3",
   "language": "python",
   "name": "python3"
  },
  "language_info": {
   "codemirror_mode": {
    "name": "ipython",
    "version": 3
   },
   "file_extension": ".py",
   "mimetype": "text/x-python",
   "name": "python",
   "nbconvert_exporter": "python",
   "pygments_lexer": "ipython3",
   "version": "3.7.6"
  }
 },
 "nbformat": 4,
 "nbformat_minor": 1
}
